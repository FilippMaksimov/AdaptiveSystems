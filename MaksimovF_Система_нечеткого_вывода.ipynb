{
  "nbformat": 4,
  "nbformat_minor": 0,
  "metadata": {
    "colab": {
      "provenance": [],
      "authorship_tag": "ABX9TyOQwyoakX4KMzIu085eMIYN",
      "include_colab_link": true
    },
    "kernelspec": {
      "name": "python3",
      "display_name": "Python 3"
    },
    "language_info": {
      "name": "python"
    }
  },
  "cells": [
    {
      "cell_type": "markdown",
      "metadata": {
        "id": "view-in-github",
        "colab_type": "text"
      },
      "source": [
        "<a href=\"https://colab.research.google.com/github/FilippMaksimov/AdaptiveSystems/blob/main/MaksimovF_%D0%A1%D0%B8%D1%81%D1%82%D0%B5%D0%BC%D0%B0_%D0%BD%D0%B5%D1%87%D0%B5%D1%82%D0%BA%D0%BE%D0%B3%D0%BE_%D0%B2%D1%8B%D0%B2%D0%BE%D0%B4%D0%B0.ipynb\" target=\"_parent\"><img src=\"https://colab.research.google.com/assets/colab-badge.svg\" alt=\"Open In Colab\"/></a>"
      ]
    },
    {
      "cell_type": "code",
      "execution_count": null,
      "metadata": {
        "colab": {
          "base_uri": "https://localhost:8080/"
        },
        "id": "9yc7PIBAHpx9",
        "outputId": "1e70e1fa-52de-41f6-94db-bc25c293704b"
      },
      "outputs": [
        {
          "output_type": "stream",
          "name": "stdout",
          "text": [
            "Результат: -0.18 м/с²\n"
          ]
        }
      ],
      "source": [
        "import numpy as np\n",
        "import skfuzzy as fuzz\n",
        "\n",
        "\n",
        "# Универсумы\n",
        "speed = np.arange(0, 141, 1)\n",
        "dist = np.arange(0, 201, 1)\n",
        "accel = np.arange(-5, 5.1, 0.1)\n",
        "\n",
        "# Функции принадлежности\n",
        "speed_slow = fuzz.trapmf(speed, [0, 0, 40, 60])\n",
        "speed_medium = fuzz.trimf(speed, [50, 70, 90])\n",
        "speed_fast = fuzz.trapmf(speed, [80, 100, 140, 140])\n",
        "\n",
        "dist_close = fuzz.trapmf(dist, [0, 0, 20, 50])\n",
        "dist_safe = fuzz.trapmf(dist, [40, 60, 80, 100])\n",
        "dist_far = fuzz.trapmf(dist, [80, 120, 200, 200])\n",
        "\n",
        "accel_brake = fuzz.trapmf(accel, [-5, -5, -3, -1])\n",
        "accel_hold = fuzz.trimf(accel, [-2, 0, 1.5])\n",
        "accel_accel = fuzz.trapmf(accel, [1, 3, 5, 5])\n",
        "\n",
        "# Входные значения\n",
        "speed_val = 75\n",
        "dist_val = 70\n",
        "\n",
        "# Фаззификация\n",
        "speed_med_level = fuzz.interp_membership(speed, speed_medium, speed_val)\n",
        "dist_safe_level = fuzz.interp_membership(dist, dist_safe, dist_val)\n",
        "\n",
        "# Активизация правил (только правило 5)\n",
        "rule5_activation = np.fmin(speed_med_level, dist_safe_level)\n",
        "accel_hold_activated = np.fmin(rule5_activation, accel_hold)\n",
        "\n",
        "# Дефаззификация\n",
        "aggregated = accel_hold_activated  # другие правила не активированы\n",
        "result = fuzz.defuzz(accel, aggregated, 'centroid')\n",
        "print(f\"Результат: {result:.2f} м/с²\")"
      ]
    },
    {
      "cell_type": "code",
      "source": [
        "!pip install scikit-fuzzy"
      ],
      "metadata": {
        "colab": {
          "base_uri": "https://localhost:8080/"
        },
        "id": "iDgDltXSInNe",
        "outputId": "2b29a1b6-403e-4be9-bf65-fa7b3a0c4707"
      },
      "execution_count": null,
      "outputs": [
        {
          "output_type": "stream",
          "name": "stdout",
          "text": [
            "Collecting scikit-fuzzy\n",
            "  Downloading scikit_fuzzy-0.5.0-py2.py3-none-any.whl.metadata (2.6 kB)\n",
            "Downloading scikit_fuzzy-0.5.0-py2.py3-none-any.whl (920 kB)\n",
            "\u001b[2K   \u001b[90m━━━━━━━━━━━━━━━━━━━━━━━━━━━━━━━━━━━━━━━━\u001b[0m \u001b[32m920.8/920.8 kB\u001b[0m \u001b[31m15.8 MB/s\u001b[0m eta \u001b[36m0:00:00\u001b[0m\n",
            "\u001b[?25hInstalling collected packages: scikit-fuzzy\n",
            "Successfully installed scikit-fuzzy-0.5.0\n"
          ]
        }
      ]
    }
  ]
}